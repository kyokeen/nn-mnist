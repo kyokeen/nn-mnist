{
  "nbformat": 4,
  "nbformat_minor": 0,
  "metadata": {
    "colab": {
      "name": "Neural  Networks MNIST assignment.ipynb",
      "provenance": [],
      "collapsed_sections": [
        "tsh6EV4LS3tn"
      ],
      "include_colab_link": true
    },
    "kernelspec": {
      "name": "python3",
      "display_name": "Python 3"
    }
  },
  "cells": [
    {
      "cell_type": "markdown",
      "metadata": {
        "id": "view-in-github",
        "colab_type": "text"
      },
      "source": [
        "<a href=\"https://colab.research.google.com/github/kyokeen/nn-mnist/blob/master/Neural_Networks_MNIST_assignment.ipynb\" target=\"_parent\"><img src=\"https://colab.research.google.com/assets/colab-badge.svg\" alt=\"Open In Colab\"/></a>"
      ]
    },
    {
      "cell_type": "markdown",
      "metadata": {
        "id": "3uD75Y_fA6eu"
      },
      "source": [
        "# Neural Networks MNIST assignment"
      ]
    },
    {
      "cell_type": "markdown",
      "source": [
        "Activation functions are a very important part in neural networks - they dictate a layer's output as well as its backpropagation. Let us look at a few important activation functions:"
      ],
      "metadata": {
        "id": "7btLpWGmCK0F"
      }
    },
    {
      "cell_type": "markdown",
      "metadata": {
        "id": "k-4MibaQKW7H"
      },
      "source": [
        "###Logistic sigmoid function\n",
        "![link text](https://www.researchgate.net/profile/John-Davis-33/publication/234049070/figure/fig6/AS:300093912698893@1448559372458/Logistic-sigmoid-function-Maps-real-numbers-to-the-interval-between-0-and-1.png)\n",
        "$$\\sigma(x) = \\frac{1}{1+e^{-x}}$$\n",
        "The logistic sigmoid function outputs values in the interval $[0, 1]$ and has relatively high gradient when its input is in the inteval $[-2, 2]$. This means it has the ability to bring the output closer to each side of the curve (0 or 1), making it a prefferred activation function in classification problems, favoring clear distinctions on prediction. \n",
        "However, there are certain disadvantages to the logistic sigmoid function. As the input takes higher values, changes to the output are hardly noticeable. The gradient is small, therefore large changes in the input at higher values will render insignificant changes in the output. This means that the network struggles to learn or does so very slowly (small gradient means small changes on weights when updating them).\n",
        "\n",
        "\n",
        "\n"
      ]
    },
    {
      "cell_type": "markdown",
      "metadata": {
        "id": "G32BC2v-TSJs"
      },
      "source": [
        "\n",
        "###Tanh\n",
        "![tanh](https://www.mathworks.com/help/examples/matlab/win64/GraphHyperbolicTangentFunctionExample_01.png)\n",
        "$$\\tanh(x) = \\frac{2}{1+e^{-2x}} - 1 = 2\\sigma(2x) - 1$$\n",
        "\n",
        "Since $tanh$ is a scaled version of the logistic sigmoid function, it preserves its properties. However, the output of $tanh$ lies in the interval $[-1, 1]$ and its gradient is larger around the inflexion point $x=0$. More specifically, changes to the input $x$ \"matter\" twice as much for $tanh$ as for the logistic sigmoid; this results from the scaling factor 2 in the argument of the logistic sigmoid. $tanh$ also suffers from the same \"vanishing gradient\" problem, just like the logistic sigmoid.\n",
        "\n",
        "![](https://lh3.googleusercontent.com/proxy/gj1tu1yfsgJudtS5ulqnj_WGqm6ghY6PGF9vOJ8xAGptkryCApduuyDeErJD9nCSrKWK8eTwaPv6UkBn-y0oT7cs5Vm3SWfNJtVrZ7DXqwOFbNPNZy8wjqUj5Sk)"
      ]
    },
    {
      "cell_type": "markdown",
      "metadata": {
        "id": "w6WVybgXTMyI"
      },
      "source": [
        "###ReLU \n",
        "![relu](data:image/png;base64,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)\n",
        "\n",
        "$$ReLU(x) = A(x) = max(0, x)$$\n",
        "\n",
        "The ReLU, or Rectified Linear Unit function, is a nonlinear activation function which outputs 0 for any negative input and the input itself otherwise. It is only linear on the positive and negative halves of the plane, but overall it is not linear. Output values range from $0$ to $+inf$, meaning the activation of the neurons might become very large, as opposed to the values given by $tanh$ and the logistic sigmoid, which are bounded in narrow intervals.\n",
        "\n",
        "The advantage of ReLU over the two sigmoids is that it can make certain neural networks lighter, less dense, by outputting 0 for any negative input. Moreover, computation of ReLU is less costly as opposed to the sigmoids which involve exponentials. \n",
        "\n",
        "An important downside of ReLU is called \"dying ReLU\" problem. Because the gradient for negative inputs is zero, the weights cannot change and part of the network remains passive."
      ]
    },
    {
      "cell_type": "markdown",
      "metadata": {
        "id": "YkC-sDYjSY4D"
      },
      "source": [
        "## Problem 1 "
      ]
    },
    {
      "cell_type": "markdown",
      "metadata": {
        "id": "RLbBW7a1Ddfv"
      },
      "source": [
        "\n",
        "\n",
        "We consider a neural network for **binary classification** with 2-dimensional\n",
        "inputs $x = (x_1, x_2)^T$, two hiddens neurons and one output, and weights as in\n",
        "below figure. Each node (hidden and output) has the **logistic sigmoid function** as activation function: $$\\sigma(x) = \\frac{1}{1+e^{-x}}$$\n",
        "\n",
        "$$$$\n",
        "\n",
        "![neural network](https://docs.google.com/drawings/d/e/2PACX-1vSkrkTthhermXNaCiq3eliu9q9DjbjyZYnLL3Z0uTYRBkNnHG7z_X5ywC3k6xJ0g9XCEDt-d4lgh8SS/pub?w=675&h=263)\n",
        "\n",
        "$$$$\n",
        "\n",
        "1. The weights are given by $(w_1, w_2, w_3, w_4, w_5, w_6) = (0.52, 0.61, 0.3, 0.4, 0.6, 0.15)$. As input we have one data-point $x = (0.45, 0.3)^T$, and the target is $t = 1$. Do the forward pass to calculate the activations of all nodes and then determine the total error of the neural network(hint:we have binary classification; pick loss function accordingly).\n",
        "\n",
        "2. Use the back-propagation algorithm to obtain the partial derivatives of the error function with respect to the weights between the hidden layer and the\n",
        "output layer ($w_5$ and $w_6$). Then, use these derivatives to update the\n",
        "weights between the hidden layer and the output layer of the network\n",
        "using stochastic gradient descent (SGD) with a learning rate $\\eta = 0.05$.\n",
        "\n",
        "3. Continue the back-propagation algorithm to obtain the partial derivatives of the error function with respect to the weights between the input layer and\n",
        "the hidden layer $(w_1, w_2, w_3$ and $w_4)$. Once again, use SGD with the same learning rate to update the weights.\n",
        "\n",
        "4. Finally, having updated the weights, calculate the new total error for the neural network. Note: now, the total error should be smaller than the one calculated at point 1.\n",
        "\n",
        "> _Note_: You can solve the problem on paper by hand and then write the solution using $\\LaTeX$(latex) code in the following text cell, or in Python using Numpy. Don't write just the end results.\n",
        "\n",
        "> _Note_: The whole network can also be described by the following equations: \n",
        "$$\n",
        "\\begin{align*} \n",
        "{Z} &= \\sigma({W_h} \\cdot {X}) \\\\ \n",
        "{Y} &= \\sigma({W_o} \\cdot {Z})\n",
        "\\end{align*}\n",
        "$$, \n",
        "where $X = \\begin{bmatrix}\n",
        "x_1 & x_2\n",
        "\\end{bmatrix}$ is a column vector representing the 2-dimensional input, $W_h = \\begin{bmatrix}\n",
        "w_1 & w_2\\\\\n",
        "w_3 & w_4\n",
        "\\end{bmatrix}$ is a 2 by 2 matrix containing the weights of the hidden layer\n",
        ", and $W_o = \\begin{bmatrix}\n",
        "w_5 & w_6\n",
        "\\end{bmatrix}$ is a 1 by 2 matrix containing weights of the output layer."
      ]
    },
    {
      "cell_type": "code",
      "source": [
        "import matplotlib.pyplot as plt"
      ],
      "metadata": {
        "id": "82vzSUvsUhpX"
      },
      "execution_count": null,
      "outputs": []
    },
    {
      "cell_type": "code",
      "metadata": {
        "id": "ZNPTNzvg5FI_"
      },
      "source": [
        "# %pylab inline\n",
        "plt.rcParams[\"figure.figsize\"] = [9,5]\n",
        "\n",
        "!pip install -q sklearn\n",
        "\n",
        "import numpy as np\n",
        "from tqdm import tqdm  # for progress bar"
      ],
      "execution_count": null,
      "outputs": []
    },
    {
      "cell_type": "code",
      "metadata": {
        "id": "YryjwDaFh3Tm",
        "colab": {
          "base_uri": "https://localhost:8080/"
        },
        "outputId": "fbf8ae00-417e-4216-eb08-cd0f97b41645"
      },
      "source": [
        "def sigmoid(x):\n",
        "  return 1 / (1 + np.exp(-x))\n",
        "print(sigmoid(0))"
      ],
      "execution_count": null,
      "outputs": [
        {
          "output_type": "stream",
          "name": "stdout",
          "text": [
            "0.5\n"
          ]
        }
      ]
    },
    {
      "cell_type": "code",
      "metadata": {
        "id": "jRbeGTO9giAY",
        "colab": {
          "base_uri": "https://localhost:8080/",
          "height": 134
        },
        "outputId": "6e8e136a-b43a-45ba-987d-b33053e16613"
      },
      "source": [
        "w = [0.52, 0.61, 0.3, 0.4, 0.6, 0.15]\n",
        "X = [0.45, 0.3]\n",
        "target = 1\n",
        "eta = 0.05\n",
        "\n",
        "##1\n",
        "z1 = sigmoid(X[0]*w[0] + X[1]*w[1])\n",
        "z2 = sigmoid(X[0]*w[2] + X[1]*w[3])\n",
        "y = sigmoid(z1*w[4] + z2*w[5])\n",
        "print('z1 = %.4f, z2 = %.4f\\n y = %.4f' % (z1, z2, y))\n",
        "\n",
        "# I chose a BCE loss function, typically chosen for binary classification problems\n",
        "\n",
        "E = -(target * np.log(y) + (1 - target) * np.log(1 - y))\n",
        "\n",
        "print('E(w) = %.4f' % E)\n",
        "print(w)\n",
        "\n",
        "##2\n",
        "diff_E_y = -target/y + (1-target)/(1-y)\n",
        "aux_y = sigmoid(z1*w[4] + z2*w[5])*sigmoid(-z1*w[4] - z2*w[5])\n",
        "diff_y_w5 = aux_y * z1\n",
        "diff_y_w6 = aux_y * z2\n",
        "\n",
        "w[4] = w[4] - eta * diff_E_y * diff_y_w5\n",
        "w[5] = w[5] - eta * diff_E_y * diff_y_w6\n",
        "\n",
        "print(w)\n",
        "\n",
        "##3\n",
        "diff_y_z1 = aux_y * w[4]\n",
        "diff_y_z2 = aux_y * w[5]\n",
        "aux_z1 = sigmoid(X[0]*w[0] + X[1]*w[1])*sigmoid(-X[0]*w[0] - X[1]*w[1])\n",
        "aux_z2 = sigmoid(X[0]*w[2] + X[1]*w[3])*sigmoid(-X[0]*w[2] - X[1]*w[3])\n",
        "diff_z1_w1 = aux_z1 * X[0]\n",
        "diff_z1_w2 = aux_z1 * X[1]\n",
        "diff_z2_w3 = aux_z2 * X[0]\n",
        "diff_z2_w4 = aux_z2 * X[1]\n",
        "\n",
        "w[0] = w[0] - eta * diff_E_y * diff_y_z1 * diff_z1_w1\n",
        "w[1] = w[1] - eta * diff_E_y * diff_y_z1 * diff_z1_w2\n",
        "w[2] = w[2] - eta * diff_E_y * diff_y_z2 * diff_z2_w3\n",
        "w[3] = w[3] - eta * diff_E_y * diff_y_z2 * diff_z2_w4\n",
        "\n",
        "print(w)\n",
        "\n",
        "##4\n",
        "z1 = sigmoid(X[0]*w[0] + X[1]*w[1])\n",
        "z2 = sigmoid(X[0]*w[2] + X[1]*w[3])\n",
        "y = sigmoid(z1*w[4] + z2*w[5])\n",
        "E = -(target * np.log(y) + (1 - target) * np.log(1 - y))\n",
        "print('New loss E(w) = %.4f' % E)"
      ],
      "execution_count": null,
      "outputs": [
        {
          "output_type": "stream",
          "text": [
            "z1 = 0.6028, z2 = 0.5634\n",
            " y = 0.6097\n",
            "E(w) = 0.4947\n",
            "[0.52, 0.61, 0.3, 0.4, 0.6, 0.15]\n",
            "[0.52, 0.61, 0.3, 0.4, 0.6117621103165962, 0.1609940873840205]\n",
            "[0.5212862567771495, 0.6108575045180996, 0.3003477431675765, 0.40023182877838437, 0.6117621103165962, 0.1609940873840205]\n",
            "New loss E(w) = 0.4895\n"
          ],
          "name": "stdout"
        }
      ]
    },
    {
      "cell_type": "markdown",
      "metadata": {
        "id": "E2o30dlRd77U"
      },
      "source": [
        "[Solution on paper](https://drive.google.com/file/d/1lc9F-o-yZMMOVu-4RYU11_sgky_hYNf2/view?usp=sharing)"
      ]
    },
    {
      "cell_type": "markdown",
      "metadata": {
        "id": "3yXW7HaIP_K-"
      },
      "source": [
        "## Problem 2 - Digit classification"
      ]
    },
    {
      "cell_type": "markdown",
      "metadata": {
        "id": "Hn6XZTC9TMGp"
      },
      "source": [
        "\n",
        "\n",
        "### Multiclass logistic regression\n"
      ]
    },
    {
      "cell_type": "markdown",
      "metadata": {
        "id": "FDLBRk3E_Dz5"
      },
      "source": [
        "We will develope a that returns the digit class of an image patch $\\mathcal{x}$ .\n",
        "The dataset we are going to use for this is the MNIST handwritten digits dataset (http://yann.lecun.com/exdb/mnist/). We can download the data with scikit learn, and load it as follows:"
      ]
    },
    {
      "cell_type": "code",
      "metadata": {
        "id": "d52Qu3gpAawe"
      },
      "source": [
        "from sklearn.datasets import fetch_openml\n",
        "# Fetch the data\n",
        "mnist = fetch_openml('mnist_784')"
      ],
      "execution_count": null,
      "outputs": []
    },
    {
      "cell_type": "code",
      "source": [
        "mnist.data.shape"
      ],
      "metadata": {
        "colab": {
          "base_uri": "https://localhost:8080/"
        },
        "id": "cndqMvMgDm-C",
        "outputId": "a364b23e-d7d0-40ce-fd8b-4e05b3802b31"
      },
      "execution_count": null,
      "outputs": [
        {
          "output_type": "execute_result",
          "data": {
            "text/plain": [
              "(70000, 784)"
            ]
          },
          "metadata": {},
          "execution_count": 8
        }
      ]
    },
    {
      "cell_type": "code",
      "source": [
        "mnist.target.shape"
      ],
      "metadata": {
        "colab": {
          "base_uri": "https://localhost:8080/"
        },
        "id": "Y7Z3dvbvECXX",
        "outputId": "cf296230-fbe9-4172-d54e-236f56d0bd31"
      },
      "execution_count": null,
      "outputs": [
        {
          "output_type": "execute_result",
          "data": {
            "text/plain": [
              "(70000,)"
            ]
          },
          "metadata": {},
          "execution_count": 9
        }
      ]
    },
    {
      "cell_type": "code",
      "source": [
        "data, target = mnist.data, mnist.target.astype('int')\n",
        "# Shuffle\n",
        "indices = np.arange(len(data))\n",
        "np.random.seed(123)\n",
        "np.random.shuffle(indices)\n",
        "\n",
        "data = data.iloc[indices].astype('float32')\n",
        "target = target[indices]\n",
        "\n",
        "# data.reset_index(drop=True)\n",
        "# target.reset_index(drop=True)\n",
        "data = data.sort_index()\n",
        "target = target.sort_index()\n",
        "# Normalize the data between 0.0 and 1.0:\n",
        "data /= 255\n",
        "\n",
        "# Split\n",
        "x_train, x_valid, x_test = data[:50000], data[50000:60000], data[60000: 70000]\n",
        "t_train, t_valid, t_test = target[:50000], target[50000:60000], target[60000: 70000]\n",
        "\n",
        "x_test = x_test.reset_index(drop=True)\n",
        "t_test = t_test.reset_index(drop=True)\n",
        "x_valid = x_valid.reset_index(drop=True)\n",
        "t_valid = t_valid.reset_index(drop=True)"
      ],
      "metadata": {
        "id": "6GaYNLMkBo_C"
      },
      "execution_count": null,
      "outputs": []
    },
    {
      "cell_type": "markdown",
      "metadata": {
        "id": "v0be1RFCDLxt"
      },
      "source": [
        "MNIST consists of small 28 by 28 pixel images of written digits (0-9). We split the dataset into a training, validation and testing arrays. The variables `x_train`, `x_valid` and `x_test` are $N \\times M$ matrices, where $N$ is the number of datapoints in the respective set, and $M = 28^2 = 784$ is the dimensionality of the data. The second set of variables `t_train`, `t_valid` and `t_test` contain the corresponding $N$-dimensional vector of integers, containing the true class labels.\n",
        "\n",
        "\n",
        "> The *training set* is used for training the model. \\\\\n",
        "> The *validation set* is used to check whether the model is overfitting or actually learning and for hyperparameter search(note: we do not train on *validation set*, we only do inference). \\\\\n",
        "> The *test set* is used at the end, to get the 'official' metrics and to see how well your model performs on unseen data.\n",
        "\n",
        "Here's a visualisation of the first 8 digits of the trainingset:"
      ]
    },
    {
      "cell_type": "code",
      "source": [
        "def plot_digits(data, num_cols, targets=None, shape=(28,28)):\n",
        "    num_digits = data.shape[0]\n",
        "    num_rows = int(num_digits/num_cols)\n",
        "    for i in range(num_digits):\n",
        "        plt.subplot(num_rows, num_cols, i+1)\n",
        "        plt.imshow(data.iloc[i].to_numpy().reshape(shape), interpolation='none', cmap='Greys')\n",
        "        if targets is not None:\n",
        "            plt.title(int(targets[i]))\n",
        "        plt.axis('off')\n",
        "    plt.tight_layout()\n",
        "    plt.show()\n",
        "    \n",
        "plot_digits(x_train[0:10], num_cols=5, targets=t_train[0:10])"
      ],
      "metadata": {
        "colab": {
          "base_uri": "https://localhost:8080/",
          "height": 328
        },
        "id": "yS6zEFY5Bl9P",
        "outputId": "5a443bf7-6efe-48dc-8b91-465954f90b51"
      },
      "execution_count": null,
      "outputs": [
        {
          "output_type": "display_data",
          "data": {
            "image/png": "[encoded data removed]",
            "text/plain": [
              "<Figure size 648x360 with 10 Axes>"
            ]
          },
          "metadata": {
            "needs_background": "light"
          }
        }
      ]
    },
    {
      "cell_type": "markdown",
      "metadata": {
        "id": "Fe0_PPQIDeDU"
      },
      "source": [
        "We will be constructing a multinomial logistic regression model(in order to be considered a 1 layer Neural Network, another layer should be added)\n",
        "\n",
        "The input $x$ is multiplied with the parameters $\\textbf{w}$, a bias $\\textbf{b}$ is added, and the result $q$ (of size $10 \\times 1$) gives us some unnormalised probabilities. Thus, we have $\\ q_j = \\textbf{w}_j^T \\textbf{x} + b_j$. \n",
        "\n",
        "These are passed thorugh a [Softmax](https://victorzhou.com/blog/softmax/) function that gives us the normalised probabilities $p$ such that $\\sum_j p_j = 1$. [Softmax](https://victorzhou.com/blog/softmax/) transformation is used as a last layer of many classifcation neural network models to ensure that the output of the network is a normalized distribution, regardless of the values of second-to-last layer ($\\textbf{q}$).\n",
        "\n",
        "\n",
        "How do we achieve that? We note $Z = \\sum_k e^{q_k}$, and it is the normalizing factor. $\\textbf{w}_j$ is the $j$-th column of $\\textbf{W}$ (a matrix of size $784 \\times 10$) corresponding to the class label, $b_j$ is the $j$-th element of $\\textbf{b}$. The unnormalized probabilities are then normalized by $Z$ . This is done by $p_j = \\frac{e^{q_j}}{Z}$. \n",
        "\n",
        "\n",
        "The network's output $\\textbf{p}$ of size $10 \\times 1$ then contains the conditional probabilities $ p(t = j \\;|\\; \\textbf{x}, \\textbf{b}, \\textbf{W})$ for each digit class $j$. In summary, the computations are done in this order:\n",
        "\n",
        "$$\\textbf{x} \\rightarrow \\textbf{q} \\rightarrow Z \\rightarrow \\textbf{p}$$\n",
        "\n",
        "Given some dataset with $N$ independent, identically distributed datapoints, the likelihood is given by:\n",
        "\n",
        "$$ \\mathcal{L}(\\textbf{b}, \\textbf{W}) = \\sum_{n=1}^N \\mathcal{L}^{(n)}$$\n",
        "\n",
        "where we use $\\mathcal{L}^{(n)}$ to denote the partial likelihood evaluated over a single datapoint. It is important to see that the probability of the class label $t^{(n)}$ given the image, is given by the $t^{(n)}$-th element of the network's output $ \\textbf{p}$, denoted by $ p_{t^{(n)}}$.\n",
        "\n",
        "Wanting to __maximise__ the likelihood $\\mathcal{L}^{(n)}$, which is equivalent with __minimising the negatve__ of __log__ $\\mathcal{L}^{(n)}$, which we will not with $E(\\textbf{w})$"
      ]
    },
    {
      "cell_type": "markdown",
      "metadata": {
        "id": "DPpm_PRIRW3M"
      },
      "source": [
        "#### 2.1 Gradient-based stochastic optimization"
      ]
    },
    {
      "cell_type": "markdown",
      "metadata": {
        "id": "3j9jYwnUE-e4"
      },
      "source": [
        "\n",
        "##### 2.1.1 Derive gradient equations\n",
        "\n",
        "Derive the equations for computing the (first) partial derivatives of the loss $E(\\textbf{w})$(loss if computed using the $\\mathcal{L}^{(n)}$ and the ground truth label) w.r.t. all the parameters, evaluated at a _single_ datapoint $n$. \n",
        "\n",
        "You should start deriving the equations for $\\frac{\\partial E(\\textbf{w})^{(n)}}{\\partial q_j}$ for each $j$. For clarity, we'll use the shorthand $\\delta^q_j = \\frac{\\partial E(\\textbf{w})^{(n)}}{\\partial q_j}$. You can look here for guidance: [derivative of Softmax](https://eli.thegreenplace.net/2016/the-softmax-function-and-its-derivative/)\n",
        "\n",
        "Complete the below derivations:\n",
        "\n"
      ]
    },
    {
      "cell_type": "markdown",
      "metadata": {
        "id": "OH_KoIqqFHQY"
      },
      "source": [
        "For $j = t^{(n)}$:\n",
        "\\begin{align}\n",
        "\\delta^q_j\n",
        "&= p_{t^{(n)}} - 1\n",
        "\\end{align}\n",
        "For $j \\neq t^{(n)}$:\n",
        "\\begin{align}\n",
        "\\delta^q_j\n",
        "&= p_j - 0\n",
        "\\end{align}"
      ]
    },
    {
      "cell_type": "markdown",
      "metadata": {
        "id": "mUao9zGuFVX7"
      },
      "source": [
        "[Derivation](https://drive.google.com/file/d/1m8z2jTRaeHFTu05QMqcIq5EJF0ccLEEk/view?usp=sharing)\n",
        "\n",
        "Given your equations for computing the gradients $\\delta^q_j$ it should be quite straightforward to derive the equations for the gradients of the parameters of the model, $\\frac{\\partial E(w)^{(n)}}{\\partial W_{ij}}$ and $\\frac{\\partial E(\\textbf{w})^{(n)}}{\\partial b_j}$. The gradients for the biases $\\textbf{b}$ are given by:\n",
        "\n",
        "$$\n",
        "\\frac{\\partial E(\\textbf{w})^{(n)}}{\\partial b_j}\n",
        "= \\frac{\\partial E(\\textbf{w})^{(n)}}{\\partial q_j}\n",
        "\\frac{\\partial q_j}{\\partial b_j}\n",
        "= \\delta^q_j\n",
        "\\cdot 1\n",
        "= \\delta^q_j\n",
        "$$\n",
        "\n",
        "The equation above gives the derivative of $E(\\textbf{w})^{(n)}$ w.r.t. a single element of $\\textbf{b}$, so the vector $\\nabla_\\textbf{b} E(\\textbf{w})^{(n)}$ with all derivatives of $E(\\textbf{w})^{(n)}$ w.r.t. the bias parameters $\\textbf{b}$ is: \n",
        "\n",
        "$$\n",
        "\\nabla_\\textbf{b} E(\\textbf{w})^{(n)} = \\mathbf{\\delta}^q\n",
        "$$\n",
        "\n",
        "where $\\mathbf{\\delta}^q$ denotes the vector of size $10 \\times 1$ with elements $\\mathbf{\\delta}_j^q$.\n",
        "\n",
        "The (not fully developed) equation for computing the derivative of $E(w)^{(n)}$ w.r.t. a single element $W_{ij}$ of $\\textbf{W}$ is:\n",
        "\n",
        "$\n",
        "\\frac{\\partial E(\\textbf{w})^{(n)}}{\\partial W_{ij}} =\n",
        "\\frac{\\partial E(\\textbf{w})^{(n)}}{\\partial q_j}\n",
        "\\frac{\\partial q_j}{\\partial W_{ij}}\n",
        "= \\mathbf{\\delta}_j^q\n",
        "\\frac{\\partial q_j}{\\partial W_{ij}}\n",
        "$\n",
        "\n",
        "What is $\\frac{\\partial q_j}{\\partial W_{ij}}$? Complete the equation above.\n",
        "\n",
        "If you want, you can give the resulting equation in vector format ($\\nabla_{\\textbf{w}_j} E(\\textbf{w})^{(n)} = ...$), like we did for $\\nabla_\\textbf{b} E(\\textbf{w})^{(n)}$."
      ]
    },
    {
      "cell_type": "markdown",
      "metadata": {
        "id": "bUovZG_DGOQ5"
      },
      "source": [
        "$\\frac{\\partial q_j}{\\partial W_{ij}} =x_i$\n",
        "\n",
        "Thus:\n",
        "\n",
        "$\n",
        "\\frac{\\partial E(\\textbf{w})^{(n)}}{\\partial W_{ij}} = \n",
        "\\mathbf{\\delta}_j^q \\frac{\\partial q_j}{\\partial W_{ij}} =\n",
        "\\mathbf{\\delta}_j^qx_i\n",
        "$\n",
        "\n",
        "[Derivation](https://drive.google.com/file/d/1mOspRTH7sKb0R5uh_Xs_vBgW9aqhuOYP/view?usp=sharing)"
      ]
    },
    {
      "cell_type": "markdown",
      "metadata": {
        "id": "dD3UlrNyHFyv"
      },
      "source": [
        "##### 2.1.2 Implement gradient computations\n",
        "\n",
        "Implement the gradient calculations you derived in the previous question. Write a function `gradient(x, t, w, b)` that returns the probability $p$ of class $t$ given image $x$, gradients $\\nabla_{\\textbf{w}_j} E(w)^{(n)}$ (for each $j$) and $\\nabla_{\\textbf{b}} E(w)^{(n)}$, i.e. the first partial derivatives of the loss w.r.t. the parameters $\\textbf{W}$ and $\\textbf{b}$, evaluated at a single datapoint (`x`, `t`).\n",
        "\n",
        "$p$ is a scalar, $\\nabla_{\\textbf{w}_j} E(w)^{(n)}$ is a $784 \\times 10$ matrix and $\\nabla_{\\textbf{b}} E(w)^{(n)}$ a $10 \\times 1$ vector.\n",
        "\n",
        "Optional: ensure the function is numerically stable."
      ]
    },
    {
      "cell_type": "code",
      "metadata": {
        "id": "nFCXItAwHVEa"
      },
      "source": [
        "def probabilities(x, w, b):\n",
        "  q = np.dot(x, w) + b\n",
        "  q_stable = q - np.max(q)\n",
        "  Z = np.exp(q_stable).sum()\n",
        "  p = np.exp(q_stable) / Z\n",
        "  return p"
      ],
      "execution_count": null,
      "outputs": []
    },
    {
      "cell_type": "code",
      "metadata": {
        "id": "ZehAmCH9HmqL"
      },
      "source": [
        "def my_gradient(x, t, w, b):\n",
        "  p = probabilities(x, w, b)\n",
        "  target = np.zeros(b.shape)\n",
        "  target[t] = 1\n",
        "  delta = p - target\n",
        "  grad_w = np.dot(np.transpose(x), delta)\n",
        "  pt = p[:, t].reshape(())\n",
        "  delta = delta.reshape((10,))\n",
        "  return pt, grad_w, delta\n",
        "  "
      ],
      "execution_count": null,
      "outputs": []
    },
    {
      "cell_type": "markdown",
      "source": [
        "Sanity check - test output shape and check gradient calculations "
      ],
      "metadata": {
        "id": "JT79q2ov8JzO"
      }
    },
    {
      "cell_type": "code",
      "source": [
        "# Sanity check\n",
        "# Test gradients, train on 1 sample\n",
        "\n",
        "np.random.seed(42)\n",
        "w = np.random.normal(size=(28*28,10), scale=0.001)\n",
        "b = np.zeros((10,))\n",
        "\n",
        "pt, grad_w, grad_b = my_gradient(x_train.iloc[0:1,:], t_train.iloc[0:1], w, b)\n",
        "\n",
        "assert pt.shape == (), pt.shape\n",
        "assert grad_w.shape == w.shape, grad_w.shape\n",
        "assert grad_b.shape == b.shape, grad_b.shape"
      ],
      "metadata": {
        "id": "vIKYE-WiFsZD"
      },
      "execution_count": null,
      "outputs": []
    },
    {
      "cell_type": "code",
      "source": [
        "from scipy.optimize import check_grad\n",
        "\n",
        "np.random.seed(42)\n",
        "w = np.random.normal(size=(28*28,10), scale=0.001)\n",
        "b = np.zeros((10,))\n",
        "\n",
        "def func(w):\n",
        "    pt, _, _ = my_gradient(x_train.iloc[0:1,:], t_train.iloc[0:1], w.reshape(784,10), b)\n",
        "    return -np.log(pt)\n",
        "def grad(w):\n",
        "    _, grad_w, _ = my_gradient(x_train.iloc[0:1,:], t_train.iloc[0:1], w.reshape(784,10), b)\n",
        "    return grad_w.flatten()\n",
        "\n",
        "finite_diff_error = check_grad(func, grad, w.flatten())\n",
        "print('Finite difference error grad_w:', finite_diff_error)\n",
        "assert finite_diff_error < 1e-3, 'Computation for w seems off'\n",
        "\n",
        "def func(b):\n",
        "    pt, _, _ = my_gradient(x_train.iloc[0:1,:], t_train.iloc[0:1], w, b)\n",
        "    return -np.log(pt)\n",
        "def grad(b):\n",
        "    _, _, grad_b = my_gradient(x_train.iloc[0:1,:], t_train.iloc[0:1], w, b)\n",
        "    return grad_b.flatten()\n",
        "    \n",
        "finite_diff_error = check_grad(func, grad, b)\n",
        "print('Finite difference error grad_b:', finite_diff_error)\n",
        "assert finite_diff_error < 1e-3, 'Computation for b seems off'\n",
        "\n"
      ],
      "metadata": {
        "colab": {
          "base_uri": "https://localhost:8080/"
        },
        "id": "V6NedWgqGZev",
        "outputId": "189f05a3-345f-4343-ae8c-8faed96f8ba0"
      },
      "execution_count": null,
      "outputs": [
        {
          "output_type": "stream",
          "name": "stdout",
          "text": [
            "Finite difference error grad_w: 4.334382562823724e-07\n",
            "Finite difference error grad_b: 3.7725152233264255e-08\n"
          ]
        }
      ]
    },
    {
      "cell_type": "markdown",
      "metadata": {
        "id": "96-B_c60J6mm"
      },
      "source": [
        "##### 2.1.3. Stochastic gradient descent\n",
        "\n",
        "Write a function `sgd_iter(x_train, t_train, w, b)` that performs one iteration of stochastic gradient descent (SGD) It should go through the trainingset once in randomized order, call `gradient(x, t, w, b)` for each datapoint to get the gradients, and update the parameters **using a small learning rate of `1E-6`**. It should returns all conditional probabilities for all datapoints and the new weights."
      ]
    },
    {
      "cell_type": "code",
      "source": [
        "def sgd_iter(x_train, t_train, W, b):\n",
        "  eta = 1e-6\n",
        "  no_training_examples = x_train.shape[0]\n",
        "  for idx in range(no_training_examples):\n",
        "    x = x_train.iloc[idx].to_numpy().reshape((1, x_train.shape[1]))\n",
        "    t = t_train.iloc[idx].reshape((1,))\n",
        "    pt, grad_w, grad_b = my_gradient(x, t, W, b)\n",
        "    W = W - eta*grad_w\n",
        "    b = b - eta*grad_b    \n",
        "  return probabilities(x, W, b), W, b"
      ],
      "metadata": {
        "id": "eZrErr0gHE7F"
      },
      "execution_count": null,
      "outputs": []
    },
    {
      "cell_type": "code",
      "metadata": {
        "id": "QdVtSx1fKTsB"
      },
      "source": [
        "# Sanity check:\n",
        "np.random.seed(1243)\n",
        "w = np.zeros((28*28, 10))\n",
        "b = np.zeros(10)\n",
        "    \n",
        "p_train, W, b = sgd_iter(x_train[:5], t_train[:5], w, b)"
      ],
      "execution_count": null,
      "outputs": []
    },
    {
      "cell_type": "code",
      "source": [
        "# Sanity check:\n",
        "np.random.seed(1243)\n",
        "w = np.zeros((28*28, 10))\n",
        "b = np.zeros(10)\n",
        "    \n",
        "p_train, W, b = sgd_iter(x_train.iloc[:5], t_train.iloc[:5], w, b)"
      ],
      "metadata": {
        "id": "zTunNsp8GykD"
      },
      "execution_count": null,
      "outputs": []
    },
    {
      "cell_type": "markdown",
      "metadata": {
        "id": "Fl7jhnWeRq6Z"
      },
      "source": [
        "#### 2.2. Train"
      ]
    },
    {
      "cell_type": "markdown",
      "metadata": {
        "id": "vS6nK2zbNiY1"
      },
      "source": [
        "##### 2.2.1 Train\n",
        "Let's train the model for 50 and 200 iterations and observe how conditional probabilities change for the test set and the validation set."
      ]
    },
    {
      "cell_type": "code",
      "source": [
        "def conditional_probability(x_train, t_train, w, b):\n",
        "  no_training_examples = x_train.shape[0]\n",
        "  cp = 0.0\n",
        "  for idx in range(no_training_examples):\n",
        "    p = probabilities(x_train.iloc[idx], w, b)\n",
        "    pt = p[t_train.iloc[idx]]\n",
        "    cp += pt\n",
        "  return cp/no_training_examples"
      ],
      "metadata": {
        "id": "QBgwRtzaHcFG"
      },
      "execution_count": null,
      "outputs": []
    },
    {
      "cell_type": "code",
      "source": [
        "p_test_iter = [] \n",
        "p_valid_iter = [] \n",
        "\n",
        "def test_sgd(x_train, t_train, x_valid, t_valid, w, b):\n",
        "  for idx in range(50):\n",
        "    p_train, w, b = sgd_iter(x_train, t_train, w, b)\n",
        "    \n",
        "    train_cp = conditional_probability(x_train, t_train, w, b)\n",
        "    valid_cp = conditional_probability(x_valid, t_valid, w, b)\n",
        "\n",
        "    p_test_iter.append(train_cp)\n",
        "    p_valid_iter.append(valid_cp)\n",
        "    print('%d: %.5f, %.5f' % (idx, train_cp, valid_cp))\n",
        "  return w, b\n",
        "    \n",
        "np.random.seed(1243)\n",
        "w = np.zeros((28*28, 10))\n",
        "b = np.zeros(10)\n",
        "w,b = test_sgd(x_train, t_train, x_valid, t_valid, w, b)"
      ],
      "metadata": {
        "id": "s4QpVhkeHhcr"
      },
      "execution_count": null,
      "outputs": []
    },
    {
      "cell_type": "code",
      "source": [
        "p_test_iter = [] \n",
        "p_valid_iter = [] \n",
        "\n",
        "def test_sgd(x_train, t_train, x_valid, t_valid, w, b):\n",
        "  for idx in range(200):\n",
        "    p_train, w, b = sgd_iter(x_train, t_train, w, b)\n",
        "    \n",
        "    train_cp = conditional_probability(x_train, t_train, w, b)\n",
        "    valid_cp = conditional_probability(x_valid, t_valid, w, b)\n",
        "\n",
        "    p_test_iter.append(train_cp)\n",
        "    p_valid_iter.append(valid_cp)\n",
        "    print('%d: %.5f, %.5f' % (idx, train_cp, valid_cp))\n",
        "  return w, b\n",
        "    \n",
        "np.random.seed(1243)\n",
        "w = np.zeros((28*28, 10))\n",
        "b = np.zeros(10)\n",
        "w,b = test_sgd(x_train, t_train, x_valid, t_valid, w, b)"
      ],
      "metadata": {
        "id": "8dJS_JowRy35"
      },
      "execution_count": null,
      "outputs": []
    },
    {
      "cell_type": "markdown",
      "source": [
        "Plotting the conditional probabilities over 50 iterations:"
      ],
      "metadata": {
        "id": "8e43iiKV8kYJ"
      }
    },
    {
      "cell_type": "code",
      "source": [
        "import matplotlib.pyplot as plt\n",
        "x = np.arange(0, 50, 1)\n",
        "plt.scatter(x, p_test_iter, c='pink')\n",
        "plt.scatter(x, p_valid_iter, c='purple')"
      ],
      "metadata": {
        "colab": {
          "base_uri": "https://localhost:8080/",
          "height": 337
        },
        "id": "cxVRP2ExM2NP",
        "outputId": "2d48676b-0a6d-43e6-969c-b0e1bd39584e"
      },
      "execution_count": null,
      "outputs": [
        {
          "output_type": "execute_result",
          "data": {
            "text/plain": [
              "<matplotlib.collections.PathCollection at 0x7fb2cc0b2a50>"
            ]
          },
          "metadata": {},
          "execution_count": 113
        },
        {
          "output_type": "display_data",
          "data": {
            "image/png": "[encoded data removed]",
            "text/plain": [
              "<Figure size 648x360 with 1 Axes>"
            ]
          },
          "metadata": {
            "needs_background": "light"
          }
        }
      ]
    },
    {
      "cell_type": "code",
      "source": [
        "# Plotted the conditional probabilities over 200 iterations\n",
        "\n",
        "import matplotlib.pyplot as plt\n",
        "x = np.arange(0, 200, 1)\n",
        "plt.scatter(x, p_test_iter, c='blue')\n",
        "plt.scatter(x, p_valid_iter, c='purple')"
      ],
      "metadata": {
        "colab": {
          "base_uri": "https://localhost:8080/",
          "height": 337
        },
        "id": "WxIaSaQlkBwC",
        "outputId": "c3f49f91-8842-4b4a-e936-03d3cc1c74d5"
      },
      "execution_count": null,
      "outputs": [
        {
          "output_type": "execute_result",
          "data": {
            "text/plain": [
              "<matplotlib.collections.PathCollection at 0x7efc80725c50>"
            ]
          },
          "metadata": {},
          "execution_count": 23
        },
        {
          "output_type": "display_data",
          "data": {
            "image/png": "[encoded data removed]",
            "text/plain": [
              "<Figure size 648x360 with 1 Axes>"
            ]
          },
          "metadata": {
            "needs_background": "light"
          }
        }
      ]
    },
    {
      "cell_type": "markdown",
      "source": [
        "The blue curve corresponds to the validation set. The fact that it is similar to the training curve indicates that the model is not overfitting the training data. Good news! "
      ],
      "metadata": {
        "id": "kUyLQpZH-As2"
      }
    },
    {
      "cell_type": "code",
      "metadata": {
        "id": "qRhtZuFiA1JO",
        "colab": {
          "base_uri": "https://localhost:8080/",
          "height": 337
        },
        "outputId": "38b3c5c9-c9cb-42ec-f2ed-69dccef2daa7"
      },
      "source": [
        "\n",
        "x = np.arange(0, 500, 1)\n",
        "plt.scatter(x, p_test_iter, c='blue')\n",
        "plt.scatter(x, p_valid_iter, c='purple')"
      ],
      "execution_count": null,
      "outputs": [
        {
          "output_type": "execute_result",
          "data": {
            "text/plain": [
              "<matplotlib.collections.PathCollection at 0x7f6253da8f60>"
            ]
          },
          "metadata": {
            "tags": []
          },
          "execution_count": 21
        },
        {
          "output_type": "display_data",
          "data": {
            "image/png": "[encoded data removed]",
            "text/plain": [
              "<Figure size 648x360 with 1 Axes>"
            ]
          },
          "metadata": {
            "tags": [],
            "needs_background": "light"
          }
        }
      ]
    },
    {
      "cell_type": "markdown",
      "source": [
        "This plot is from a past run with 500 iterations. We can see that the conditional probability increases slowly after 200 iterations. It peaks around 0.7. This is not directly a measure of accuracy - it rather indicates how certain the model is for accurate predictions - precision. "
      ],
      "metadata": {
        "id": "B-M1IHX38qv2"
      }
    },
    {
      "cell_type": "code",
      "source": [
        "# returns a list of predicted digits\n",
        "def classify(x, W, b):\n",
        "  y = []\n",
        "  no_training_examples = x.shape[0]\n",
        "  for idx in range(no_training_examples):\n",
        "    prob = probabilities(x.iloc[idx], w, b)\n",
        "    max = np.max(prob)\n",
        "    digit = np.where(prob == max)[0]\n",
        "    y.append(digit[0])\n",
        "  return y"
      ],
      "metadata": {
        "id": "0HenHvMnl6hs"
      },
      "execution_count": null,
      "outputs": []
    },
    {
      "cell_type": "code",
      "source": [
        "# returns a set of probabilities for the target values\n",
        "def set_probabilities(x, t, w, b):\n",
        "  no_training_examples = x.shape[0]\n",
        "  prob = [] \n",
        "  for idx in range(no_training_examples):\n",
        "    p = probabilities(x.iloc[idx], w, b)\n",
        "    pt = p[t[idx]]\n",
        "    prob.append(pt)\n",
        "  return np.array(prob)"
      ],
      "metadata": {
        "id": "kEzXFTFynQuv"
      },
      "execution_count": null,
      "outputs": []
    },
    {
      "cell_type": "markdown",
      "source": [
        "I found two ways to calculate accuracy, both of which are useful: \n",
        "\n",
        "\n",
        "*   accuracy of certain results - the model is considered to have predicted correctly if it is at least 50% certain of that decision.\n",
        "*   accuracy of max probability - here, the model outputs as its decision the digit with the largest probability from the output layer. We should expect larger values for accuracy in this case.\n",
        "\n"
      ],
      "metadata": {
        "id": "Hi1dCjEo-9YK"
      }
    },
    {
      "cell_type": "code",
      "source": [
        "# computes accuracy - the guess is considered correct if its corresponding conditional probability is > 0.5\n",
        "def accuracy_threshold(x, t, w, b):\n",
        "  prob = set_probabilities(x, t, w, b)\n",
        "  return (prob[np.where(prob > 0.5)].shape[0]) / x.shape[0]"
      ],
      "metadata": {
        "id": "8T__97-rtdJC"
      },
      "execution_count": null,
      "outputs": []
    },
    {
      "cell_type": "code",
      "source": [
        "accuracy_threshold(x_test, t_test, w, b)"
      ],
      "metadata": {
        "colab": {
          "base_uri": "https://localhost:8080/"
        },
        "id": "10v-Ot-txxcx",
        "outputId": "4ccd34a0-6d48-488f-ce6c-4eb8f0123d12"
      },
      "execution_count": null,
      "outputs": [
        {
          "output_type": "execute_result",
          "data": {
            "text/plain": [
              "0.7169"
            ]
          },
          "metadata": {},
          "execution_count": 113
        }
      ]
    },
    {
      "cell_type": "code",
      "source": [
        "def accuracy_max(x, t, w, b):\n",
        "  no_training_examples = x.shape[0]\n",
        "  acc = 0\n",
        "  for idx in range(no_training_examples):\n",
        "    p = probabilities(x.iloc[idx], w, b)\n",
        "    max = np.max(p)\n",
        "    digit = np.where(p == max)[0]\n",
        "    if digit == t[idx]:\n",
        "      acc = acc + 1\n",
        "  return acc / no_training_examples"
      ],
      "metadata": {
        "id": "JDcrJ0wlwEcY"
      },
      "execution_count": null,
      "outputs": []
    },
    {
      "cell_type": "code",
      "source": [
        "accuracy_max(x_test, t_test, w, b)"
      ],
      "metadata": {
        "colab": {
          "base_uri": "https://localhost:8080/"
        },
        "id": "xzmbFLtY5vN5",
        "outputId": "8718dec6-39c7-43ae-c395-d58d3538b836"
      },
      "execution_count": null,
      "outputs": [
        {
          "output_type": "execute_result",
          "data": {
            "text/plain": [
              "0.8718"
            ]
          },
          "metadata": {},
          "execution_count": 128
        }
      ]
    },
    {
      "cell_type": "markdown",
      "source": [
        "Indeed, for 200 iterations, the max probability accuracy is significantly larger. Let us now compute the confusion matrix."
      ],
      "metadata": {
        "id": "zRAqRijp_rVw"
      }
    },
    {
      "cell_type": "code",
      "source": [
        "conf_matrix = np.zeros((10, 10), dtype=int)\n",
        "guess = classify(x_test, W, b)\n",
        "\n",
        "for idx in range(len(t_test)):\n",
        "  target_digit = t_test[idx]\n",
        "  guessed_digit = guess[idx]\n",
        "  conf_matrix[guessed_digit][target_digit] = conf_matrix[guessed_digit][target_digit] + 1"
      ],
      "metadata": {
        "id": "RPqbCBU556hZ"
      },
      "execution_count": null,
      "outputs": []
    },
    {
      "cell_type": "code",
      "source": [
        "pandas.DataFrame(conf_matrix)"
      ],
      "metadata": {
        "colab": {
          "base_uri": "https://localhost:8080/",
          "height": 363
        },
        "id": "d1EHLkj87teq",
        "outputId": "6bc11990-39d6-45d0-918e-47f436a2d135"
      },
      "execution_count": null,
      "outputs": [
        {
          "output_type": "execute_result",
          "data": {
            "text/html": [
              "\n",
              "  <div id=\"df-eb585d4f-fb91-41eb-aa46-94b1a71e8ec8\">\n",
              "    <div class=\"colab-df-container\">\n",
              "      <div>\n",
              "<style scoped>\n",
              "    .dataframe tbody tr th:only-of-type {\n",
              "        vertical-align: middle;\n",
              "    }\n",
              "\n",
              "    .dataframe tbody tr th {\n",
              "        vertical-align: top;\n",
              "    }\n",
              "\n",
              "    .dataframe thead th {\n",
              "        text-align: right;\n",
              "    }\n",
              "</style>\n",
              "<table border=\"1\" class=\"dataframe\">\n",
              "  <thead>\n",
              "    <tr style=\"text-align: right;\">\n",
              "      <th></th>\n",
              "      <th>0</th>\n",
              "      <th>1</th>\n",
              "      <th>2</th>\n",
              "      <th>3</th>\n",
              "      <th>4</th>\n",
              "      <th>5</th>\n",
              "      <th>6</th>\n",
              "      <th>7</th>\n",
              "      <th>8</th>\n",
              "      <th>9</th>\n",
              "    </tr>\n",
              "  </thead>\n",
              "  <tbody>\n",
              "    <tr>\n",
              "      <th>0</th>\n",
              "      <td>946</td>\n",
              "      <td>0</td>\n",
              "      <td>16</td>\n",
              "      <td>5</td>\n",
              "      <td>3</td>\n",
              "      <td>26</td>\n",
              "      <td>20</td>\n",
              "      <td>4</td>\n",
              "      <td>9</td>\n",
              "      <td>14</td>\n",
              "    </tr>\n",
              "    <tr>\n",
              "      <th>1</th>\n",
              "      <td>0</td>\n",
              "      <td>1092</td>\n",
              "      <td>17</td>\n",
              "      <td>3</td>\n",
              "      <td>8</td>\n",
              "      <td>14</td>\n",
              "      <td>5</td>\n",
              "      <td>35</td>\n",
              "      <td>15</td>\n",
              "      <td>13</td>\n",
              "    </tr>\n",
              "    <tr>\n",
              "      <th>2</th>\n",
              "      <td>3</td>\n",
              "      <td>5</td>\n",
              "      <td>848</td>\n",
              "      <td>22</td>\n",
              "      <td>5</td>\n",
              "      <td>5</td>\n",
              "      <td>13</td>\n",
              "      <td>28</td>\n",
              "      <td>14</td>\n",
              "      <td>11</td>\n",
              "    </tr>\n",
              "    <tr>\n",
              "      <th>3</th>\n",
              "      <td>3</td>\n",
              "      <td>3</td>\n",
              "      <td>26</td>\n",
              "      <td>878</td>\n",
              "      <td>0</td>\n",
              "      <td>76</td>\n",
              "      <td>2</td>\n",
              "      <td>1</td>\n",
              "      <td>38</td>\n",
              "      <td>12</td>\n",
              "    </tr>\n",
              "    <tr>\n",
              "      <th>4</th>\n",
              "      <td>0</td>\n",
              "      <td>1</td>\n",
              "      <td>19</td>\n",
              "      <td>1</td>\n",
              "      <td>859</td>\n",
              "      <td>24</td>\n",
              "      <td>13</td>\n",
              "      <td>13</td>\n",
              "      <td>11</td>\n",
              "      <td>51</td>\n",
              "    </tr>\n",
              "    <tr>\n",
              "      <th>5</th>\n",
              "      <td>4</td>\n",
              "      <td>5</td>\n",
              "      <td>0</td>\n",
              "      <td>33</td>\n",
              "      <td>1</td>\n",
              "      <td>655</td>\n",
              "      <td>20</td>\n",
              "      <td>0</td>\n",
              "      <td>23</td>\n",
              "      <td>11</td>\n",
              "    </tr>\n",
              "    <tr>\n",
              "      <th>6</th>\n",
              "      <td>15</td>\n",
              "      <td>4</td>\n",
              "      <td>27</td>\n",
              "      <td>8</td>\n",
              "      <td>17</td>\n",
              "      <td>28</td>\n",
              "      <td>880</td>\n",
              "      <td>4</td>\n",
              "      <td>18</td>\n",
              "      <td>1</td>\n",
              "    </tr>\n",
              "    <tr>\n",
              "      <th>7</th>\n",
              "      <td>1</td>\n",
              "      <td>0</td>\n",
              "      <td>23</td>\n",
              "      <td>20</td>\n",
              "      <td>2</td>\n",
              "      <td>9</td>\n",
              "      <td>0</td>\n",
              "      <td>890</td>\n",
              "      <td>13</td>\n",
              "      <td>27</td>\n",
              "    </tr>\n",
              "    <tr>\n",
              "      <th>8</th>\n",
              "      <td>8</td>\n",
              "      <td>25</td>\n",
              "      <td>48</td>\n",
              "      <td>26</td>\n",
              "      <td>11</td>\n",
              "      <td>38</td>\n",
              "      <td>5</td>\n",
              "      <td>10</td>\n",
              "      <td>812</td>\n",
              "      <td>11</td>\n",
              "    </tr>\n",
              "    <tr>\n",
              "      <th>9</th>\n",
              "      <td>0</td>\n",
              "      <td>0</td>\n",
              "      <td>8</td>\n",
              "      <td>14</td>\n",
              "      <td>76</td>\n",
              "      <td>17</td>\n",
              "      <td>0</td>\n",
              "      <td>43</td>\n",
              "      <td>21</td>\n",
              "      <td>858</td>\n",
              "    </tr>\n",
              "  </tbody>\n",
              "</table>\n",
              "</div>\n",
              "      <button class=\"colab-df-convert\" onclick=\"convertToInteractive('df-eb585d4f-fb91-41eb-aa46-94b1a71e8ec8')\"\n",
              "              title=\"Convert this dataframe to an interactive table.\"\n",
              "              style=\"display:none;\">\n",
              "        \n",
              "  <svg xmlns=\"http://www.w3.org/2000/svg\" height=\"24px\"viewBox=\"0 0 24 24\"\n",
              "       width=\"24px\">\n",
              "    <path d=\"M0 0h24v24H0V0z\" fill=\"none\"/>\n",
              "    <path d=\"M18.56 5.44l.94 2.06.94-2.06 2.06-.94-2.06-.94-.94-2.06-.94 2.06-2.06.94zm-11 1L8.5 8.5l.94-2.06 2.06-.94-2.06-.94L8.5 2.5l-.94 2.06-2.06.94zm10 10l.94 2.06.94-2.06 2.06-.94-2.06-.94-.94-2.06-.94 2.06-2.06.94z\"/><path d=\"M17.41 7.96l-1.37-1.37c-.4-.4-.92-.59-1.43-.59-.52 0-1.04.2-1.43.59L10.3 9.45l-7.72 7.72c-.78.78-.78 2.05 0 2.83L4 21.41c.39.39.9.59 1.41.59.51 0 1.02-.2 1.41-.59l7.78-7.78 2.81-2.81c.8-.78.8-2.07 0-2.86zM5.41 20L4 18.59l7.72-7.72 1.47 1.35L5.41 20z\"/>\n",
              "  </svg>\n",
              "      </button>\n",
              "      \n",
              "  <style>\n",
              "    .colab-df-container {\n",
              "      display:flex;\n",
              "      flex-wrap:wrap;\n",
              "      gap: 12px;\n",
              "    }\n",
              "\n",
              "    .colab-df-convert {\n",
              "      background-color: #E8F0FE;\n",
              "      border: none;\n",
              "      border-radius: 50%;\n",
              "      cursor: pointer;\n",
              "      display: none;\n",
              "      fill: #1967D2;\n",
              "      height: 32px;\n",
              "      padding: 0 0 0 0;\n",
              "      width: 32px;\n",
              "    }\n",
              "\n",
              "    .colab-df-convert:hover {\n",
              "      background-color: #E2EBFA;\n",
              "      box-shadow: 0px 1px 2px rgba(60, 64, 67, 0.3), 0px 1px 3px 1px rgba(60, 64, 67, 0.15);\n",
              "      fill: #174EA6;\n",
              "    }\n",
              "\n",
              "    [theme=dark] .colab-df-convert {\n",
              "      background-color: #3B4455;\n",
              "      fill: #D2E3FC;\n",
              "    }\n",
              "\n",
              "    [theme=dark] .colab-df-convert:hover {\n",
              "      background-color: #434B5C;\n",
              "      box-shadow: 0px 1px 3px 1px rgba(0, 0, 0, 0.15);\n",
              "      filter: drop-shadow(0px 1px 2px rgba(0, 0, 0, 0.3));\n",
              "      fill: #FFFFFF;\n",
              "    }\n",
              "  </style>\n",
              "\n",
              "      <script>\n",
              "        const buttonEl =\n",
              "          document.querySelector('#df-eb585d4f-fb91-41eb-aa46-94b1a71e8ec8 button.colab-df-convert');\n",
              "        buttonEl.style.display =\n",
              "          google.colab.kernel.accessAllowed ? 'block' : 'none';\n",
              "\n",
              "        async function convertToInteractive(key) {\n",
              "          const element = document.querySelector('#df-eb585d4f-fb91-41eb-aa46-94b1a71e8ec8');\n",
              "          const dataTable =\n",
              "            await google.colab.kernel.invokeFunction('convertToInteractive',\n",
              "                                                     [key], {});\n",
              "          if (!dataTable) return;\n",
              "\n",
              "          const docLinkHtml = 'Like what you see? Visit the ' +\n",
              "            '<a target=\"_blank\" href=https://colab.research.google.com/notebooks/data_table.ipynb>data table notebook</a>'\n",
              "            + ' to learn more about interactive tables.';\n",
              "          element.innerHTML = '';\n",
              "          dataTable['output_type'] = 'display_data';\n",
              "          await google.colab.output.renderOutput(dataTable, element);\n",
              "          const docLink = document.createElement('div');\n",
              "          docLink.innerHTML = docLinkHtml;\n",
              "          element.appendChild(docLink);\n",
              "        }\n",
              "      </script>\n",
              "    </div>\n",
              "  </div>\n",
              "  "
            ],
            "text/plain": [
              "     0     1    2    3    4    5    6    7    8    9\n",
              "0  946     0   16    5    3   26   20    4    9   14\n",
              "1    0  1092   17    3    8   14    5   35   15   13\n",
              "2    3     5  848   22    5    5   13   28   14   11\n",
              "3    3     3   26  878    0   76    2    1   38   12\n",
              "4    0     1   19    1  859   24   13   13   11   51\n",
              "5    4     5    0   33    1  655   20    0   23   11\n",
              "6   15     4   27    8   17   28  880    4   18    1\n",
              "7    1     0   23   20    2    9    0  890   13   27\n",
              "8    8    25   48   26   11   38    5   10  812   11\n",
              "9    0     0    8   14   76   17    0   43   21  858"
            ]
          },
          "metadata": {},
          "execution_count": 146
        }
      ]
    },
    {
      "cell_type": "markdown",
      "source": [
        "A few observations:\n",
        "\n",
        "\n",
        "*   \"0\" and \"1\" were very easy for the models to guess\n",
        "*   \"5\" not as much - a lot of features of the digit 5 are similar to digits 3 and 8;\n",
        "*   \"4\" is very similar to \"9\"\n",
        "\n"
      ],
      "metadata": {
        "id": "vipscXLD_39d"
      }
    },
    {
      "cell_type": "markdown",
      "metadata": {
        "id": "S4nXYu5YN2Wt"
      },
      "source": [
        "##### 2.2.2 Visualize weights\n",
        "Visualize the resulting parameters $\\textbf{W}$ after a few iterations through the training set, by treating each column of $\\textbf{W}$ as an image."
      ]
    },
    {
      "cell_type": "code",
      "metadata": {
        "id": "fxnhY__VN33W",
        "colab": {
          "base_uri": "https://localhost:8080/",
          "height": 304
        },
        "outputId": "8b819b4d-0b36-4b76-cd46-72d31a8c1dd4"
      },
      "source": [
        "plot_digits(np.transpose(w), 5, None, shape=(28, 28)) ## weights after 50 iterations"
      ],
      "execution_count": null,
      "outputs": [
        {
          "output_type": "display_data",
          "data": {
            "image/png": "[encoded data removed]",
            "text/plain": [
              "<Figure size 648x360 with 10 Axes>"
            ]
          },
          "metadata": {
            "tags": [],
            "needs_background": "light"
          }
        }
      ]
    },
    {
      "cell_type": "code",
      "source": [
        "plot_digits(pandas.DataFrame(np.transpose(w)), 5, None, shape=(28, 28)) ##weights after 200 iterations"
      ],
      "metadata": {
        "colab": {
          "base_uri": "https://localhost:8080/",
          "height": 304
        },
        "id": "5fhNuj-PlQmT",
        "outputId": "fef4a2b0-9f0d-42b9-eed1-0520e11c680a"
      },
      "execution_count": null,
      "outputs": [
        {
          "output_type": "display_data",
          "data": {
            "image/png": "[encoded data removed]",
            "text/plain": [
              "<Figure size 648x360 with 10 Axes>"
            ]
          },
          "metadata": {
            "needs_background": "light"
          }
        }
      ]
    },
    {
      "cell_type": "code",
      "metadata": {
        "id": "Fj9RMZWGQO3i",
        "colab": {
          "base_uri": "https://localhost:8080/",
          "height": 304
        },
        "outputId": "90c3ce35-386b-4a0c-a0c0-297eb14c6b02"
      },
      "source": [
        "plot_digits(np.transpose(w), 5, None, shape=(28, 28)) ##weights after 500 iterations"
      ],
      "execution_count": null,
      "outputs": [
        {
          "output_type": "display_data",
          "data": {
            "image/png": "[encoded data removed]",
            "text/plain": [
              "<Figure size 648x360 with 10 Axes>"
            ]
          },
          "metadata": {
            "tags": [],
            "needs_background": "light"
          }
        }
      ]
    },
    {
      "cell_type": "markdown",
      "metadata": {
        "id": "xBFKe9uEOIsU"
      },
      "source": [
        "The images representing columns of the weight matrix show similarity with the corresponding digit neurons that they influence when computing the model output. I believe that the black pixels that form the shape of the target digit correspond to high weight values that \"encourage\" certain digit features, whereas white pixels \"discourage\" all other features. For example, the digit 0 is a circle, therefore images with pixels that align with the black pixels of the 0 weight column (which resemble a circle) will result in high activation values for the 0 neuron. Any other features will be \"discouraged\", weighing down the probability of the digit being classified as a zero - this is explained by the white pixels inside the hollow, or the white auras surrounding the other digits."
      ]
    },
    {
      "cell_type": "markdown",
      "metadata": {
        "id": "Jiu7AHj8OPaN"
      },
      "source": [
        "##### 2.2.3. Visualize the 8 hardest and 8 easiest digits\n",
        "Visualize the 8 digits in the validation set with the highest probability of the true class label under the model.\n",
        "Also plot the 8 digits that were assigned the lowest probability of the true class label under the model."
      ]
    },
    {
      "cell_type": "code",
      "source": [
        "def vset_probabilities(x, t, w, b):\n",
        "  no_training_examples = x.shape[0]\n",
        "  vp = [] \n",
        "  for idx in range(no_training_examples):\n",
        "    p = probabilities(x.iloc[idx], w, b)\n",
        "    pt = p[t[idx]]\n",
        "    vp.append([pt, idx])\n",
        "  return vp"
      ],
      "metadata": {
        "id": "SCsRLybICPGn"
      },
      "execution_count": null,
      "outputs": []
    },
    {
      "cell_type": "code",
      "source": [
        "vp = vset_probabilities(x_valid, t_valid, w, b)"
      ],
      "metadata": {
        "id": "IoRUS28aCQrT"
      },
      "execution_count": null,
      "outputs": []
    },
    {
      "cell_type": "code",
      "source": [
        "vp = np.array(vp)\n",
        "vp = vp[np.argsort(vp[:,0])]\n",
        "hard=vp[0:8]\n",
        "easy=vp[9992:10000]"
      ],
      "metadata": {
        "id": "viSu4szzCmH1"
      },
      "execution_count": null,
      "outputs": []
    },
    {
      "cell_type": "code",
      "source": [
        "def plot_digits_2(index_list, data, num_cols, targets=None, shape=(28,28)):\n",
        "  to_plot = []\n",
        "  for idx in range(len(index_list)):\n",
        "    to_plot.append(data.iloc[int(index_list[idx])])\n",
        "  to_plot = np.array(to_plot)\n",
        "  print(to_plot.shape)\n",
        "  plot_digits(pandas.DataFrame(to_plot), 4, None, (28,28))"
      ],
      "metadata": {
        "id": "zc1kCP2_CvcC"
      },
      "execution_count": null,
      "outputs": []
    },
    {
      "cell_type": "code",
      "source": [
        "plot_digits_2(easy[:,1], x_valid, 4, None, (28,28))"
      ],
      "metadata": {
        "colab": {
          "base_uri": "https://localhost:8080/",
          "height": 364
        },
        "id": "hFQB-oRdCxRG",
        "outputId": "8b474503-c572-4861-d788-b2c3ba9d69c2"
      },
      "execution_count": null,
      "outputs": [
        {
          "output_type": "stream",
          "name": "stdout",
          "text": [
            "(8, 784)\n"
          ]
        },
        {
          "output_type": "display_data",
          "data": {
            "image/png": "[encoded data removed]",
            "text/plain": [
              "<Figure size 648x360 with 8 Axes>"
            ]
          },
          "metadata": {
            "needs_background": "light"
          }
        }
      ]
    },
    {
      "cell_type": "code",
      "metadata": {
        "id": "Ya7mn_FTHmqp",
        "colab": {
          "base_uri": "https://localhost:8080/",
          "height": 364
        },
        "outputId": "36503edf-7aa8-40ab-84f8-09a139893f3f"
      },
      "source": [
        "plot_digits_2(easy[:,1], x_valid, 4, None, (28,28))"
      ],
      "execution_count": null,
      "outputs": [
        {
          "output_type": "stream",
          "text": [
            "(8, 784)\n"
          ],
          "name": "stdout"
        },
        {
          "output_type": "display_data",
          "data": {
            "image/png": "[encoded data removed]",
            "text/plain": [
              "<Figure size 648x360 with 8 Axes>"
            ]
          },
          "metadata": {
            "tags": [],
            "needs_background": "light"
          }
        }
      ]
    },
    {
      "cell_type": "code",
      "metadata": {
        "id": "QZiDVY7kJXa9",
        "colab": {
          "base_uri": "https://localhost:8080/",
          "height": 364
        },
        "outputId": "07d0419a-ddfe-4d6f-a2c4-5ee364faf22e"
      },
      "source": [
        "plot_digits_2(hard[:,1], x_valid, 4, None, (28,28))"
      ],
      "execution_count": null,
      "outputs": [
        {
          "output_type": "stream",
          "text": [
            "(8, 784)\n"
          ],
          "name": "stdout"
        },
        {
          "output_type": "display_data",
          "data": {
            "image/png": "[encoded data removed]",
            "text/plain": [
              "<Figure size 648x360 with 8 Axes>"
            ]
          },
          "metadata": {
            "tags": [],
            "needs_background": "light"
          }
        }
      ]
    },
    {
      "cell_type": "code",
      "source": [
        "plot_digits_2(hard[:,1], x_valid, 4, None, (28,28))"
      ],
      "metadata": {
        "colab": {
          "base_uri": "https://localhost:8080/",
          "height": 364
        },
        "id": "pmSKo58DH9qt",
        "outputId": "e5ae2bd0-2717-4216-b747-cc0b6ad80a29"
      },
      "execution_count": null,
      "outputs": [
        {
          "output_type": "stream",
          "name": "stdout",
          "text": [
            "(8, 784)\n"
          ]
        },
        {
          "output_type": "display_data",
          "data": {
            "image/png": "[encoded data removed]",
            "text/plain": [
              "<Figure size 648x360 with 8 Axes>"
            ]
          },
          "metadata": {
            "needs_background": "light"
          }
        }
      ]
    },
    {
      "cell_type": "markdown",
      "metadata": {
        "id": "TDzjCS4EgVBG"
      },
      "source": [
        "It makes sense that a zero is an easy digit to classify, since it has the least amount of features. Two is rather an unexpected result and so is the absence of \"1\" here. I would expect that \"1\" is the easiest digit to classify given the large value in the matrix. \n",
        "\n",
        "The explanation could be that the confusion matrix is built on how often the model guesses the digit, whereas here I looked at how sure the model was on the correct guess. \n",
        "\n",
        "The digits that the model found hardest to classify are, as expected, complicated digits with many features that might pose a problem even for humans. Moreover, digits 1 and 7 are very similar, and so are 3 and 9, making it even more difficult for the model to provide a categorical (high probability) answer."
      ]
    },
    {
      "cell_type": "markdown",
      "source": [
        "\n",
        "\n",
        "### Hidden layer network - TODO\n"
      ],
      "metadata": {
        "id": "tsh6EV4LS3tn"
      }
    },
    {
      "cell_type": "code",
      "source": [
        "def activate_sigmoid(x):\n",
        "  return sigmoid(x)"
      ],
      "metadata": {
        "id": "p6_zkZjod1O6"
      },
      "execution_count": null,
      "outputs": []
    },
    {
      "cell_type": "code",
      "source": [
        "def sigmoid_derivative(x):\n",
        "  return sigmoid(x) * (1 - sigmoid(x))"
      ],
      "metadata": {
        "id": "oJiwFeTUgsif"
      },
      "execution_count": null,
      "outputs": []
    },
    {
      "cell_type": "code",
      "source": [
        "def my_softmax(x):\n",
        "  x_stable = x - np.max(x)\n",
        "  Z = np.exp(x_stable).sum()\n",
        "  p = np.exp(x_stable) / Z\n",
        "  return p"
      ],
      "metadata": {
        "id": "NIHxx9MCO027"
      },
      "execution_count": null,
      "outputs": []
    },
    {
      "cell_type": "code",
      "source": [
        "def my_softmax_derivative(x):\n",
        "  x_stable = x - np.max(x)\n",
        "  exps = np.exp(x_stable)\n",
        "  return exps / np.sum(exps) * (1 - exps / np.sum(exps))"
      ],
      "metadata": {
        "id": "tgml8QXVjJT7"
      },
      "execution_count": null,
      "outputs": []
    },
    {
      "cell_type": "code",
      "source": [
        "def forward(x, w, b):\n",
        "  return np.dot(x, w) + b"
      ],
      "metadata": {
        "id": "23HVqMprO1_k"
      },
      "execution_count": null,
      "outputs": []
    },
    {
      "cell_type": "code",
      "metadata": {
        "id": "rbuiufwYQd5d"
      },
      "source": [
        "def probabilities(x, w, b):\n",
        "  q = np.dot(x, w) + b\n",
        "  q_stable = q - np.max(q)\n",
        "  Z = np.exp(q_stable).sum()\n",
        "  p = np.exp(q_stable) / Z\n",
        "  return p"
      ],
      "execution_count": null,
      "outputs": []
    },
    {
      "cell_type": "code",
      "source": [
        "def conditional_probability(x_train, t_train, w, b):\n",
        "  no_training_examples = x_train.shape[0]\n",
        "  cp = 0.0\n",
        "  for idx in range(no_training_examples):\n",
        "    p = probabilities(x_train.iloc[idx], w, b)\n",
        "    pt = p[t_train.iloc[idx]]\n",
        "    cp += pt\n",
        "  return cp/no_training_examples"
      ],
      "metadata": {
        "id": "RXJdz73OQd5e"
      },
      "execution_count": null,
      "outputs": []
    },
    {
      "cell_type": "code",
      "metadata": {
        "id": "kVBFc9uBQd5e"
      },
      "source": [
        "def my_gradient2(x, p, t, w, b):\n",
        "  # p = forward(x, w, b)\n",
        "  target = np.zeros(b.shape)\n",
        "  print(\"t is\", t)\n",
        "  target[t] = 1\n",
        "  delta = p - target\n",
        "  grad_w = np.dot(np.transpose(x), delta)\n",
        "  pt = p[:, t].reshape(())\n",
        "  delta = delta.reshape((10,))\n",
        "  return pt, grad_w, delta"
      ],
      "execution_count": null,
      "outputs": []
    },
    {
      "cell_type": "code",
      "source": [
        "def my_gradient2_inter(x, p, t, w, b): #backprop for sigmoid hidden layer\n",
        "  # p = forward(x, w, b)\n",
        "  target = t\n",
        "  delta = p - target # derivative here\n",
        "  grad_w = np.dot(np.transpose(x), delta)\n",
        "  pt = p[:, t].reshape(())\n",
        "  delta = delta.reshape((10,))\n",
        "  return pt, grad_w, delta"
      ],
      "metadata": {
        "id": "KjSXd_m8NPoA"
      },
      "execution_count": null,
      "outputs": []
    },
    {
      "cell_type": "code",
      "source": [
        "def sgd_iter2(x_train, t_train, w0, w1, b0, b1):\n",
        "  eta = 1e-6\n",
        "  no_training_examples = x_train.shape[0]\n",
        "  for idx in range(no_training_examples):\n",
        "\n",
        "    x = x_train.iloc[idx].to_numpy().reshape((1, x_train.shape[1]))\n",
        "    t = t_train.iloc[idx]\n",
        "\n",
        "    p0, p1 = forward_pass(x, w0, w1, b0, b1)\n",
        "\n",
        "    pt, grad_w1, grad_b1 = my_gradient2(p0, p1, t, w1, b1)\n",
        "    ptt, grad_w0, grad_b0 = my_gradient2_inter(x, p0, pt, w0, b0)\n",
        "\n",
        "    w1 = w1 - eta*grad_w1\n",
        "    b1 = b1 - eta*grad_b1 \n",
        "\n",
        "    w0 = w0 - eta*grad_w0\n",
        "    b0 = b0 - eta*grad_b0\n",
        "      \n",
        "  return probabilities(x, w, b), w0, w1, b0, b1"
      ],
      "metadata": {
        "id": "5m1BSu2KQd5e"
      },
      "execution_count": null,
      "outputs": []
    },
    {
      "cell_type": "code",
      "source": [
        "p_test_iter = [] \n",
        "p_valid_iter = [] \n",
        "\n",
        "def test_sgd2(x_train, t_train, x_valid, t_valid, w0, w1, b0, b1):\n",
        "  for idx in range(50):\n",
        "    p_train, w0, w1, b0, b1 = sgd_iter2(x_train, t_train, w0, w1, b0, b1)\n",
        "    \n",
        "    train_cp = conditional_probability(x_train, t_train, w, b)\n",
        "    valid_cp = conditional_probability(x_valid, t_valid, w, b)\n",
        "\n",
        "    p_test_iter.append(train_cp)\n",
        "    p_valid_iter.append(valid_cp)\n",
        "    print('%d: %.5f, %.5f' % (idx, train_cp, valid_cp))\n",
        "  return w0, w1, b0, b1\n"
      ],
      "metadata": {
        "id": "QKUENWDCR7_i"
      },
      "execution_count": null,
      "outputs": []
    },
    {
      "cell_type": "code",
      "source": [
        "np.random.seed(1243)\n",
        "hidden_layer_size = 16\n",
        "\n",
        "w0 = np.random.rand(28*28, 16)\n",
        "w1 = np.random.rand(16, 10)\n",
        "\n",
        "b0 = np.random.rand(16)\n",
        "b1 = np.random.rand(10)\n",
        "\n",
        "w0, w1, b0, b1 = test_sgd2(x_train, t_train, x_valid, t_valid, w0, b0, w1, b1)"
      ],
      "metadata": {
        "id": "xeHJFUnwH-7U"
      },
      "execution_count": null,
      "outputs": []
    },
    {
      "cell_type": "code",
      "source": [
        "t_train"
      ],
      "metadata": {
        "colab": {
          "base_uri": "https://localhost:8080/"
        },
        "id": "3hEM3AlqMRGU",
        "outputId": "61a86774-7da4-4e5a-ac30-9b0d18c3a6f3"
      },
      "execution_count": null,
      "outputs": [
        {
          "output_type": "execute_result",
          "data": {
            "text/plain": [
              "0        5\n",
              "1        0\n",
              "2        4\n",
              "3        1\n",
              "4        9\n",
              "        ..\n",
              "49995    5\n",
              "49996    0\n",
              "49997    8\n",
              "49998    4\n",
              "49999    8\n",
              "Name: class, Length: 50000, dtype: int64"
            ]
          },
          "metadata": {},
          "execution_count": 47
        }
      ]
    },
    {
      "cell_type": "code",
      "source": [
        "def forward_pass(x, w0, b0, w1, b1):\n",
        "  first = x\n",
        "        # input layer to hidden layer \n",
        "  second = forward(first, w0, b0)\n",
        "  second_activated = activate_sigmoid(second)\n",
        "\n",
        "        # hidden layer to output layer\n",
        "  out = forward(second_activated, w1, b1)\n",
        "  out_activated = my_softmax(out)\n",
        "\n",
        "  return second_activated, out_activated"
      ],
      "metadata": {
        "id": "T87nF_Nx0pQT"
      },
      "execution_count": null,
      "outputs": []
    },
    {
      "cell_type": "code",
      "source": [
        "def backward_pass(y, output, w0, b0, w1, b1):\n",
        "  y_vec = np.zeros(output.shape)\n",
        "  y_vec[y] = 1\n",
        "\n",
        "  return -1"
      ],
      "metadata": {
        "id": "1RagRWL21mVh"
      },
      "execution_count": null,
      "outputs": []
    },
    {
      "cell_type": "code",
      "source": [
        ""
      ],
      "metadata": {
        "id": "ZJv6nPwBHrdA"
      },
      "execution_count": null,
      "outputs": []
    }
  ]
}